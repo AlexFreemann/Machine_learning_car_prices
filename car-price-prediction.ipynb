{
 "cells": [
  {
   "cell_type": "code",
   "execution_count": 1,
   "id": "877bbaea",
   "metadata": {
    "_cell_guid": "b1076dfc-b9ad-4769-8c92-a6c4dae69d19",
    "_uuid": "8f2839f25d086af736a60e9eeb907d3b93b6e0e5",
    "execution": {
     "iopub.execute_input": "2022-01-30T12:57:03.253714Z",
     "iopub.status.busy": "2022-01-30T12:57:03.252903Z",
     "iopub.status.idle": "2022-01-30T12:57:03.268095Z",
     "shell.execute_reply": "2022-01-30T12:57:03.268533Z",
     "shell.execute_reply.started": "2022-01-30T12:52:21.316553Z"
    },
    "papermill": {
     "duration": 0.04449,
     "end_time": "2022-01-30T12:57:03.268766",
     "exception": false,
     "start_time": "2022-01-30T12:57:03.224276",
     "status": "completed"
    },
    "tags": []
   },
   "outputs": [
    {
     "name": "stdout",
     "output_type": "stream",
     "text": [
      "/kaggle/input/car-prices-poland/Car_Prices_Poland_Kaggle.csv\n"
     ]
    }
   ],
   "source": [
    "# This Python 3 environment comes with many helpful analytics libraries installed\n",
    "# It is defined by the kaggle/python Docker image: https://github.com/kaggle/docker-python\n",
    "# For example, here's several helpful packages to load\n",
    "\n",
    "import numpy as np # linear algebra\n",
    "import pandas as pd # data processing, CSV file I/O (e.g. pd.read_csv)\n",
    "\n",
    "# Input data files are available in the read-only \"../input/\" directory\n",
    "# For example, running this (by clicking run or pressing Shift+Enter) will list all files under the input directory\n",
    "\n",
    "import os\n",
    "for dirname, _, filenames in os.walk('/kaggle/input'):\n",
    "    for filename in filenames:\n",
    "        print(os.path.join(dirname, filename))\n",
    "\n",
    "# You can write up to 20GB to the current directory (/kaggle/working/) that gets preserved as output when you create a version using \"Save & Run All\" \n",
    "# You can also write temporary files to /kaggle/temp/, but they won't be saved outside of the current session"
   ]
  },
  {
   "cell_type": "code",
   "execution_count": 2,
   "id": "c1831488",
   "metadata": {
    "execution": {
     "iopub.execute_input": "2022-01-30T12:57:03.306963Z",
     "iopub.status.busy": "2022-01-30T12:57:03.306373Z",
     "iopub.status.idle": "2022-01-30T12:57:03.655829Z",
     "shell.execute_reply": "2022-01-30T12:57:03.656610Z",
     "shell.execute_reply.started": "2022-01-30T12:52:21.358202Z"
    },
    "papermill": {
     "duration": 0.369617,
     "end_time": "2022-01-30T12:57:03.656805",
     "exception": false,
     "start_time": "2022-01-30T12:57:03.287188",
     "status": "completed"
    },
    "tags": []
   },
   "outputs": [
    {
     "name": "stdout",
     "output_type": "stream",
     "text": [
      "        Unnamed: 0   mark  model    generation_name  year  mileage  \\\n",
      "0                0   opel  combo         gen-d-2011  2015   139568   \n",
      "1                1   opel  combo         gen-d-2011  2018    31991   \n",
      "2                2   opel  combo         gen-d-2011  2015   278437   \n",
      "3                3   opel  combo         gen-d-2011  2016    47600   \n",
      "4                4   opel  combo         gen-d-2011  2014   103000   \n",
      "...            ...    ...    ...                ...   ...      ...   \n",
      "117922      117922  volvo  xc-90  gen-ii-2014-xc-90  2020    40000   \n",
      "117923      117923  volvo  xc-90  gen-ii-2014-xc-90  2017    51000   \n",
      "117924      117924  volvo  xc-90  gen-ii-2014-xc-90  2016    83500   \n",
      "117925      117925  volvo  xc-90  gen-ii-2014-xc-90  2017   174000   \n",
      "117926      117926  volvo  xc-90  gen-ii-2014-xc-90  2016   189020   \n",
      "\n",
      "        vol_engine      fuel              city       province   price  \n",
      "0             1248    Diesel             Janki    Mazowieckie   35900  \n",
      "1             1499    Diesel          Katowice        Śląskie   78501  \n",
      "2             1598    Diesel             Brzeg       Opolskie   27000  \n",
      "3             1248    Diesel         Korfantów       Opolskie   30800  \n",
      "4             1400       CNG   Tarnowskie Góry        Śląskie   35900  \n",
      "...            ...       ...               ...            ...     ...  \n",
      "117922        1969    Hybrid          Katowice        Śląskie  222790  \n",
      "117923        1969    Diesel  Chechło Pierwsze        Łódzkie  229900  \n",
      "117924        1969  Gasoline   Pruszcz Gdański      Pomorskie  135000  \n",
      "117925        1969    Diesel            Kalisz  Wielkopolskie  154500  \n",
      "117926        1969  Gasoline            Sionna    Mazowieckie  130000  \n",
      "\n",
      "[117927 rows x 11 columns]\n"
     ]
    }
   ],
   "source": [
    "#Creating Data Frame from my csv file\n",
    "df=pd.read_csv('/kaggle/input/car-prices-poland/Car_Prices_Poland_Kaggle.csv')\n",
    "print(df)"
   ]
  },
  {
   "cell_type": "code",
   "execution_count": 3,
   "id": "71d0de0c",
   "metadata": {
    "execution": {
     "iopub.execute_input": "2022-01-30T12:57:03.703439Z",
     "iopub.status.busy": "2022-01-30T12:57:03.694369Z",
     "iopub.status.idle": "2022-01-30T12:57:03.734603Z",
     "shell.execute_reply": "2022-01-30T12:57:03.735242Z",
     "shell.execute_reply.started": "2022-01-30T12:52:21.675259Z"
    },
    "papermill": {
     "duration": 0.061309,
     "end_time": "2022-01-30T12:57:03.735431",
     "exception": false,
     "start_time": "2022-01-30T12:57:03.674122",
     "status": "completed"
    },
    "tags": []
   },
   "outputs": [
    {
     "name": "stdout",
     "output_type": "stream",
     "text": [
      "       Unnamed: 0      year    mileage  vol_engine      price\n",
      "count    117927.0  117927.0   117927.0    117927.0   117927.0\n",
      "mean      58963.0    2013.0   140977.0      1812.0    70300.0\n",
      "std       34043.0       6.0    92369.0       644.0    84825.0\n",
      "min           0.0    1945.0        0.0         0.0      500.0\n",
      "10%       11793.0    2006.0     5000.0      1199.0    12900.0\n",
      "20%       23585.0    2008.0    47340.0      1390.0    18500.0\n",
      "50%       58963.0    2013.0   146269.0      1796.0    41900.0\n",
      "80%       94341.0    2018.0   218544.0      1997.0    98900.0\n",
      "90%      106133.0    2021.0   255000.0      2435.0   161400.0\n",
      "max      117926.0    2022.0  2800000.0      7600.0  2399900.0\n"
     ]
    }
   ],
   "source": [
    "print(df.describe(percentiles=[.8,.2,.5,0.9,0.1]).round()) #The pareto principle is our everything"
   ]
  },
  {
   "cell_type": "markdown",
   "id": "c1f9876f",
   "metadata": {
    "papermill": {
     "duration": 0.016998,
     "end_time": "2022-01-30T12:57:03.770187",
     "exception": false,
     "start_time": "2022-01-30T12:57:03.753189",
     "status": "completed"
    },
    "tags": []
   },
   "source": []
  },
  {
   "cell_type": "markdown",
   "id": "531243c9",
   "metadata": {
    "papermill": {
     "duration": 0.016392,
     "end_time": "2022-01-30T12:57:03.804688",
     "exception": false,
     "start_time": "2022-01-30T12:57:03.788296",
     "status": "completed"
    },
    "tags": []
   },
   "source": [
    "We can see that 90% cars have price below ~160k PLN and 90% above ~13k PLN\n",
    "\n",
    "Also 80% are newer than 2008 year \n",
    "\n",
    "And just 10% have milage more than 255.000 KM\n",
    "\n",
    "So for my model I will use this confine. It willhelps minmax normalazing"
   ]
  },
  {
   "cell_type": "code",
   "execution_count": 4,
   "id": "801335d5",
   "metadata": {
    "execution": {
     "iopub.execute_input": "2022-01-30T12:57:03.844145Z",
     "iopub.status.busy": "2022-01-30T12:57:03.843171Z",
     "iopub.status.idle": "2022-01-30T12:57:03.879460Z",
     "shell.execute_reply": "2022-01-30T12:57:03.879879Z",
     "shell.execute_reply.started": "2022-01-30T12:52:21.723083Z"
    },
    "papermill": {
     "duration": 0.05882,
     "end_time": "2022-01-30T12:57:03.880035",
     "exception": false,
     "start_time": "2022-01-30T12:57:03.821215",
     "status": "completed"
    },
    "tags": []
   },
   "outputs": [
    {
     "name": "stdout",
     "output_type": "stream",
     "text": [
      "        Unnamed: 0   mark  model    generation_name  year  mileage  \\\n",
      "0                0   opel  combo         gen-d-2011  2015   139568   \n",
      "1                1   opel  combo         gen-d-2011  2018    31991   \n",
      "3                3   opel  combo         gen-d-2011  2016    47600   \n",
      "4                4   opel  combo         gen-d-2011  2014   103000   \n",
      "5                5   opel  combo         gen-d-2011  2017   121203   \n",
      "...            ...    ...    ...                ...   ...      ...   \n",
      "117915      117915  volvo  xc-90  gen-ii-2014-xc-90  2017    72000   \n",
      "117920      117920  volvo  xc-90  gen-ii-2014-xc-90  2018    53500   \n",
      "117924      117924  volvo  xc-90  gen-ii-2014-xc-90  2016    83500   \n",
      "117925      117925  volvo  xc-90  gen-ii-2014-xc-90  2017   174000   \n",
      "117926      117926  volvo  xc-90  gen-ii-2014-xc-90  2016   189020   \n",
      "\n",
      "        vol_engine      fuel             city            province   price  \n",
      "0             1248    Diesel            Janki         Mazowieckie   35900  \n",
      "1             1499    Diesel         Katowice             Śląskie   78501  \n",
      "3             1248    Diesel        Korfantów            Opolskie   30800  \n",
      "4             1400       CNG  Tarnowskie Góry             Śląskie   35900  \n",
      "5             1598    Diesel         Warszawa         Mazowieckie   51900  \n",
      "...            ...       ...              ...                 ...     ...  \n",
      "117915        1969  Gasoline          Mogilno  Kujawsko-pomorskie  159900  \n",
      "117920        1969  Gasoline        Ostrołęka         Mazowieckie  159500  \n",
      "117924        1969  Gasoline  Pruszcz Gdański           Pomorskie  135000  \n",
      "117925        1969    Diesel           Kalisz       Wielkopolskie  154500  \n",
      "117926        1969  Gasoline           Sionna         Mazowieckie  130000  \n",
      "\n",
      "[76714 rows x 11 columns]\n"
     ]
    }
   ],
   "source": [
    "#Simple filtr\n",
    "df=df[df['year']>=2008]\n",
    "df=df[df['price']>=13000]\n",
    "df=df[df['price']<=160000]\n",
    "df=df[df['mileage']<=255000]\n",
    "print(df)\n"
   ]
  },
  {
   "cell_type": "code",
   "execution_count": 5,
   "id": "2af43f7d",
   "metadata": {
    "execution": {
     "iopub.execute_input": "2022-01-30T12:57:03.932096Z",
     "iopub.status.busy": "2022-01-30T12:57:03.931108Z",
     "iopub.status.idle": "2022-01-30T12:57:03.952792Z",
     "shell.execute_reply": "2022-01-30T12:57:03.953370Z",
     "shell.execute_reply.started": "2022-01-30T12:52:21.763844Z"
    },
    "papermill": {
     "duration": 0.05542,
     "end_time": "2022-01-30T12:57:03.953553",
     "exception": false,
     "start_time": "2022-01-30T12:57:03.898133",
     "status": "completed"
    },
    "tags": []
   },
   "outputs": [
    {
     "name": "stdout",
     "output_type": "stream",
     "text": [
      "Warszawa       5705\n",
      "Łódź           2177\n",
      "Kraków         1850\n",
      "Wrocław        1625\n",
      "Katowice       1619\n",
      "               ... \n",
      "Knyszyn           1\n",
      "Paprotno          1\n",
      "Niepruszewo       1\n",
      "Baranówka         1\n",
      "Bledzew           1\n",
      "Name: city, Length: 3323, dtype: int64\n",
      "count    3323.000000\n",
      "mean       23.085766\n",
      "std       140.780606\n",
      "min         1.000000\n",
      "20%         1.000000\n",
      "50%         2.000000\n",
      "80%        12.000000\n",
      "max      5705.000000\n",
      "Name: city, dtype: float64\n"
     ]
    }
   ],
   "source": [
    "print(df['city'].value_counts())\n",
    "print(df['city'].value_counts().describe(percentiles=[0.2,.5,.8]))"
   ]
  },
  {
   "cell_type": "markdown",
   "id": "1e00da6c",
   "metadata": {
    "papermill": {
     "duration": 0.01945,
     "end_time": "2022-01-30T12:57:03.995500",
     "exception": false,
     "start_time": "2022-01-30T12:57:03.976050",
     "status": "completed"
    },
    "tags": []
   },
   "source": [
    "Here we can see that 80% cities has less than 12 listings.here is 3323 So I'd like to use about 10% cites it is first 300.\n",
    "\n",
    "We will have city if it is in top of Poland cities or We will have only one province as location factor"
   ]
  },
  {
   "cell_type": "code",
   "execution_count": 6,
   "id": "a410b1a8",
   "metadata": {
    "execution": {
     "iopub.execute_input": "2022-01-30T12:57:04.046258Z",
     "iopub.status.busy": "2022-01-30T12:57:04.045718Z",
     "iopub.status.idle": "2022-01-30T12:57:04.051394Z",
     "shell.execute_reply": "2022-01-30T12:57:04.051984Z",
     "shell.execute_reply.started": "2022-01-30T12:52:21.796764Z"
    },
    "papermill": {
     "duration": 0.038426,
     "end_time": "2022-01-30T12:57:04.052162",
     "exception": false,
     "start_time": "2022-01-30T12:57:04.013736",
     "status": "completed"
    },
    "tags": []
   },
   "outputs": [
    {
     "name": "stdout",
     "output_type": "stream",
     "text": [
      "['Warszawa', 'Łódź', 'Kraków', 'Wrocław', 'Katowice', 'Poznań', 'Gdańsk', 'Lublin', 'Piaseczno', 'Radom', 'Szczecin', 'Białystok', 'Płock', 'Bydgoszcz', 'Częstochowa', 'Zabrze', 'Chorzów', 'Rzeszów', 'Gniezno', 'Bielany Wrocławskie']\n"
     ]
    }
   ],
   "source": [
    "#Finding top locations\n",
    "top_cities=df['city'].value_counts()[:300].index.tolist()\n",
    "print(top_cities[:20])"
   ]
  },
  {
   "cell_type": "code",
   "execution_count": 7,
   "id": "958c4f5b",
   "metadata": {
    "execution": {
     "iopub.execute_input": "2022-01-30T12:57:04.093390Z",
     "iopub.status.busy": "2022-01-30T12:57:04.092647Z",
     "iopub.status.idle": "2022-01-30T12:57:04.514368Z",
     "shell.execute_reply": "2022-01-30T12:57:04.514990Z",
     "shell.execute_reply.started": "2022-01-30T12:52:21.818405Z"
    },
    "papermill": {
     "duration": 0.444923,
     "end_time": "2022-01-30T12:57:04.515193",
     "exception": false,
     "start_time": "2022-01-30T12:57:04.070270",
     "status": "completed"
    },
    "tags": []
   },
   "outputs": [
    {
     "name": "stdout",
     "output_type": "stream",
     "text": [
      "Malbork                     41\n",
      "Kraczkowa                   41\n",
      "Dojazdów                    41\n",
      "Człuchów                    41\n",
      "Kwidzyn                     41\n",
      "Maków Mazowiecki            41\n",
      "Brodnica                    40\n",
      "Sopot                       40\n",
      "Świecie                     40\n",
      "Sade Budy                   40\n",
      "Nowe Miasto nad Pilicą      40\n",
      "Jasień                      40\n",
      "Pawłowice                   39\n",
      "Grójec                      39\n",
      "Moravian-Silesian Region    35\n",
      "Berlin                       3\n",
      "Wiedeń                       2\n",
      "Niedersachsen                1\n",
      "(                            1\n",
      "Nordrhein-Westfalen          1\n",
      "Name: location, dtype: int64\n"
     ]
    }
   ],
   "source": [
    "#Now we needto create new column with new location\n",
    "df['location']=[list(i)[0] if list(i)[0] in top_cities else list(i)[1] for i in df[['city','province']].values]\n",
    "print(df['location'].value_counts()[-20:])"
   ]
  },
  {
   "cell_type": "markdown",
   "id": "d662a0d7",
   "metadata": {
    "papermill": {
     "duration": 0.037237,
     "end_time": "2022-01-30T12:57:04.589770",
     "exception": false,
     "start_time": "2022-01-30T12:57:04.552533",
     "status": "completed"
    },
    "tags": []
   },
   "source": [
    "So it works! But some not-polish places here. Remove it!"
   ]
  },
  {
   "cell_type": "code",
   "execution_count": 8,
   "id": "95eb86d4",
   "metadata": {
    "execution": {
     "iopub.execute_input": "2022-01-30T12:57:04.675550Z",
     "iopub.status.busy": "2022-01-30T12:57:04.674713Z",
     "iopub.status.idle": "2022-01-30T12:57:04.854239Z",
     "shell.execute_reply": "2022-01-30T12:57:04.854905Z",
     "shell.execute_reply.started": "2022-01-30T12:52:22.126945Z"
    },
    "papermill": {
     "duration": 0.227751,
     "end_time": "2022-01-30T12:57:04.855153",
     "exception": false,
     "start_time": "2022-01-30T12:57:04.627402",
     "status": "completed"
    },
    "tags": []
   },
   "outputs": [],
   "source": [
    "#Removing wrong places\n",
    "dropping=df['location'].value_counts().index[-5:].tolist()\n",
    "for i in dropping:\n",
    "    df=df[df['location']!=i]"
   ]
  },
  {
   "cell_type": "markdown",
   "id": "1eaacbaa",
   "metadata": {
    "papermill": {
     "duration": 0.028543,
     "end_time": "2022-01-30T12:57:04.916238",
     "exception": false,
     "start_time": "2022-01-30T12:57:04.887695",
     "status": "completed"
    },
    "tags": []
   },
   "source": [
    "So I will not use vol_engine as numeric data because we have hybrids and electric cars and theay have other rules, also demand is determined by people and people see vol_engine like 1.2, 1.9, 3.0 not like 1221cm3 1897cm3 or 2980cm3. So I round this data "
   ]
  },
  {
   "cell_type": "code",
   "execution_count": 9,
   "id": "70657f8c",
   "metadata": {
    "execution": {
     "iopub.execute_input": "2022-01-30T12:57:04.989630Z",
     "iopub.status.busy": "2022-01-30T12:57:04.988858Z",
     "iopub.status.idle": "2022-01-30T12:57:04.997577Z",
     "shell.execute_reply": "2022-01-30T12:57:04.998540Z",
     "shell.execute_reply.started": "2022-01-30T12:52:22.224080Z"
    },
    "papermill": {
     "duration": 0.053424,
     "end_time": "2022-01-30T12:57:04.998740",
     "exception": false,
     "start_time": "2022-01-30T12:57:04.945316",
     "status": "completed"
    },
    "tags": []
   },
   "outputs": [
    {
     "name": "stdout",
     "output_type": "stream",
     "text": [
      "        Unnamed: 0   mark  model    generation_name  year  mileage  \\\n",
      "0                0   opel  combo         gen-d-2011  2015   139568   \n",
      "1                1   opel  combo         gen-d-2011  2018    31991   \n",
      "3                3   opel  combo         gen-d-2011  2016    47600   \n",
      "4                4   opel  combo         gen-d-2011  2014   103000   \n",
      "5                5   opel  combo         gen-d-2011  2017   121203   \n",
      "...            ...    ...    ...                ...   ...      ...   \n",
      "117915      117915  volvo  xc-90  gen-ii-2014-xc-90  2017    72000   \n",
      "117920      117920  volvo  xc-90  gen-ii-2014-xc-90  2018    53500   \n",
      "117924      117924  volvo  xc-90  gen-ii-2014-xc-90  2016    83500   \n",
      "117925      117925  volvo  xc-90  gen-ii-2014-xc-90  2017   174000   \n",
      "117926      117926  volvo  xc-90  gen-ii-2014-xc-90  2016   189020   \n",
      "\n",
      "        vol_engine      fuel             city            province   price  \\\n",
      "0             1200    Diesel            Janki         Mazowieckie   35900   \n",
      "1             1500    Diesel         Katowice             Śląskie   78501   \n",
      "3             1200    Diesel        Korfantów            Opolskie   30800   \n",
      "4             1400       CNG  Tarnowskie Góry             Śląskie   35900   \n",
      "5             1600    Diesel         Warszawa         Mazowieckie   51900   \n",
      "...            ...       ...              ...                 ...     ...   \n",
      "117915        2000  Gasoline          Mogilno  Kujawsko-pomorskie  159900   \n",
      "117920        2000  Gasoline        Ostrołęka         Mazowieckie  159500   \n",
      "117924        2000  Gasoline  Pruszcz Gdański           Pomorskie  135000   \n",
      "117925        2000    Diesel           Kalisz       Wielkopolskie  154500   \n",
      "117926        2000  Gasoline           Sionna         Mazowieckie  130000   \n",
      "\n",
      "               location  \n",
      "0                 Janki  \n",
      "1              Katowice  \n",
      "3              Opolskie  \n",
      "4       Tarnowskie Góry  \n",
      "5              Warszawa  \n",
      "...                 ...  \n",
      "117915          Mogilno  \n",
      "117920        Ostrołęka  \n",
      "117924  Pruszcz Gdański  \n",
      "117925           Kalisz  \n",
      "117926      Mazowieckie  \n",
      "\n",
      "[76706 rows x 12 columns]\n"
     ]
    }
   ],
   "source": [
    "#Round vol_engine\n",
    "df['vol_engine']=df['vol_engine'].round(-2)\n",
    "print(df)"
   ]
  },
  {
   "cell_type": "markdown",
   "id": "b9d28a2e",
   "metadata": {
    "papermill": {
     "duration": 0.029508,
     "end_time": "2022-01-30T12:57:05.059047",
     "exception": false,
     "start_time": "2022-01-30T12:57:05.029539",
     "status": "completed"
    },
    "tags": []
   },
   "source": [
    "I know that some models don't have generations but it is important option because same models can have few generations at same time. And this difference can determine the price. So I combine this data"
   ]
  },
  {
   "cell_type": "code",
   "execution_count": 10,
   "id": "b2817bd6",
   "metadata": {
    "execution": {
     "iopub.execute_input": "2022-01-30T12:57:05.145040Z",
     "iopub.status.busy": "2022-01-30T12:57:05.141946Z",
     "iopub.status.idle": "2022-01-30T12:57:05.250744Z",
     "shell.execute_reply": "2022-01-30T12:57:05.251768Z",
     "shell.execute_reply.started": "2022-01-30T12:52:22.239349Z"
    },
    "papermill": {
     "duration": 0.163058,
     "end_time": "2022-01-30T12:57:05.252008",
     "exception": false,
     "start_time": "2022-01-30T12:57:05.088950",
     "status": "completed"
    },
    "tags": []
   },
   "outputs": [
    {
     "name": "stdout",
     "output_type": "stream",
     "text": [
      "487\n"
     ]
    }
   ],
   "source": [
    "#Replacing n/a data\n",
    "df['generation_name'].fillna('No_gen',inplace=True)\n",
    "#Create new name\n",
    "df['name']=df['mark']+\" \"+df['model']+\" \"+df['generation_name']\n",
    "print(len(df['name'].unique()))"
   ]
  },
  {
   "cell_type": "markdown",
   "id": "c1de3258",
   "metadata": {
    "papermill": {
     "duration": 0.029529,
     "end_time": "2022-01-30T12:57:05.316338",
     "exception": false,
     "start_time": "2022-01-30T12:57:05.286809",
     "status": "completed"
    },
    "tags": []
   },
   "source": [
    "Now I'd like to add column NEW. if car has 2021-2022 year and millage below 1.000 km it will be mark as new \n"
   ]
  },
  {
   "cell_type": "code",
   "execution_count": 11,
   "id": "26543a07",
   "metadata": {
    "execution": {
     "iopub.execute_input": "2022-01-30T12:57:05.391568Z",
     "iopub.status.busy": "2022-01-30T12:57:05.390759Z",
     "iopub.status.idle": "2022-01-30T12:57:06.205628Z",
     "shell.execute_reply": "2022-01-30T12:57:06.206322Z",
     "shell.execute_reply.started": "2022-01-30T12:52:22.297007Z"
    },
    "papermill": {
     "duration": 0.859385,
     "end_time": "2022-01-30T12:57:06.206583",
     "exception": false,
     "start_time": "2022-01-30T12:57:05.347198",
     "status": "completed"
    },
    "tags": []
   },
   "outputs": [
    {
     "name": "stdout",
     "output_type": "stream",
     "text": [
      "0    71200\n",
      "1     5506\n",
      "Name: new, dtype: int64\n"
     ]
    }
   ],
   "source": [
    "#Creating \"new\" column\n",
    "df['new']=[1 if i[0]<999 and i[1]>2020 else 0 for i in df[['mileage','year']].values.tolist()]\n",
    "print(df['new'].value_counts())\n",
    "\n",
    "#Save DF for \n",
    "df.to_csv('ready_df')"
   ]
  },
  {
   "cell_type": "code",
   "execution_count": 12,
   "id": "52896782",
   "metadata": {
    "execution": {
     "iopub.execute_input": "2022-01-30T12:57:06.284418Z",
     "iopub.status.busy": "2022-01-30T12:57:06.283640Z",
     "iopub.status.idle": "2022-01-30T12:57:06.291467Z",
     "shell.execute_reply": "2022-01-30T12:57:06.292646Z",
     "shell.execute_reply.started": "2022-01-30T12:52:23.068974Z"
    },
    "papermill": {
     "duration": 0.052213,
     "end_time": "2022-01-30T12:57:06.292855",
     "exception": false,
     "start_time": "2022-01-30T12:57:06.240642",
     "status": "completed"
    },
    "tags": []
   },
   "outputs": [],
   "source": [
    "#Some my functions for normalization \n",
    "\n",
    "#Create dict={item:noraml_item}\n",
    "def get_dict_items(items):\n",
    "    dict_model_arr={}\n",
    "    items=list(set(items))\n",
    "    number_items=len(items)\n",
    "    for i in items:\n",
    "        base_arr = [(lambda x: 0)(x) for x in range(number_items)]\n",
    "        model_arr=base_arr\n",
    "        model_arr[items.index(i)]=1\n",
    "        dict_model_arr.update({i:model_arr})    \n",
    "    return dict_model_arr\n",
    "\n",
    "#List of normal items from dcit\n",
    "def get_norm_items(dict_items,items):\n",
    "    norm_items=[]\n",
    "    for i in items:\n",
    "        norm_items.append(dict_items[i])\n",
    "    return norm_items\n",
    "\n",
    "#Numbers normalization\n",
    "def get_norm_numbers(numbers):\n",
    "    min_n=min(numbers)\n",
    "    max_n=max(numbers)\n",
    "    range_=max_n-min_n\n",
    "    norm_numbers=[]\n",
    "    for n in numbers:\n",
    "        norm_n=(n-min_n)/range_\n",
    "        norm_numbers.append([norm_n])\n",
    "    return norm_numbers\n",
    "\n",
    "#Some lists to one\n",
    "def tog_lists(lists):\n",
    "    data=[]\n",
    "    for l in lists:\n",
    "        data+=l\n",
    "    return np.array(data)\n"
   ]
  },
  {
   "cell_type": "code",
   "execution_count": 13,
   "id": "91fac501",
   "metadata": {
    "execution": {
     "iopub.execute_input": "2022-01-30T12:57:06.381993Z",
     "iopub.status.busy": "2022-01-30T12:57:06.381083Z",
     "iopub.status.idle": "2022-01-30T12:57:24.750846Z",
     "shell.execute_reply": "2022-01-30T12:57:24.751448Z",
     "shell.execute_reply.started": "2022-01-30T12:52:23.083581Z"
    },
    "papermill": {
     "duration": 18.415945,
     "end_time": "2022-01-30T12:57:24.751664",
     "exception": false,
     "start_time": "2022-01-30T12:57:06.335719",
     "status": "completed"
    },
    "tags": []
   },
   "outputs": [
    {
     "name": "stdout",
     "output_type": "stream",
     "text": [
      "[[0.07142857 0.31412549 0.         ... 0.         1.         0.        ]\n",
      " [0.28571429 0.74117647 0.         ... 0.         1.         0.        ]]\n",
      "76706\n",
      "76706\n",
      "<class 'numpy.ndarray'>\n",
      "858\n"
     ]
    }
   ],
   "source": [
    "#Creating input, output and test data for model\n",
    "\n",
    "#Shuffle data\n",
    "df=df.sample(frac=1)\n",
    "# df=df[:1000]\n",
    "\n",
    "\n",
    "#DF normalization\n",
    "#Numeric data are without vol_engine because it doesn't matter for electric engine \n",
    "numeric_data=['year','mileage','price'] \n",
    "item_data=['vol_engine','fuel','location','name','new']\n",
    "\n",
    "#Creating new DF for normalized data\n",
    "norm_df=pd.DataFrame()\n",
    "\n",
    "#Create normalized columns with numeric data \n",
    "for column in numeric_data:\n",
    "    norm_df[column]=get_norm_numbers(df[column].values.tolist())\n",
    "\n",
    "#Create normalized columns with list data \n",
    "normalization_dict={} #I'll save this dict for outside normalization\n",
    "for column in item_data:\n",
    "    items=df[column].values.tolist()\n",
    "    dict_items=get_dict_items(items)\n",
    "    normalization_dict.update({column:dict_items})\n",
    "    norm_df[column]=get_norm_items(dict_items,items)\n",
    "\n",
    "#Save dict for normalization in telegram bot\n",
    "import json\n",
    "with open('normalization_dict.json', 'w') as f:\n",
    "    json.dump(normalization_dict, f)\n",
    "\n",
    "\n",
    "#Create output data for keras \n",
    "output_data=np.array(norm_df['price'].values.tolist())\n",
    "\n",
    "#Create input data for keras \n",
    "#Remove output column\n",
    "columns=norm_df.columns.tolist()\n",
    "columns.remove('price')\n",
    "input_data=np.array([tog_lists(list(i)) for i in norm_df[columns].values])\n",
    "\n",
    "#Few tests\n",
    "print(input_data[:2])\n",
    "print(len(input_data))\n",
    "print(len(output_data))\n",
    "print(type(input_data))\n",
    "print(len(input_data[0]))"
   ]
  },
  {
   "cell_type": "code",
   "execution_count": 14,
   "id": "d9124262",
   "metadata": {
    "execution": {
     "iopub.execute_input": "2022-01-30T12:57:24.800418Z",
     "iopub.status.busy": "2022-01-30T12:57:24.799702Z",
     "iopub.status.idle": "2022-01-30T14:19:10.900017Z",
     "shell.execute_reply": "2022-01-30T14:19:10.595219Z",
     "shell.execute_reply.started": "2022-01-30T12:54:36.171955Z"
    },
    "papermill": {
     "duration": 4906.128219,
     "end_time": "2022-01-30T14:19:10.900217",
     "exception": false,
     "start_time": "2022-01-30T12:57:24.771998",
     "status": "completed"
    },
    "tags": []
   },
   "outputs": [
    {
     "name": "stderr",
     "output_type": "stream",
     "text": [
      "2022-01-30 12:57:29.291832: I tensorflow/stream_executor/cuda/cuda_gpu_executor.cc:937] successful NUMA node read from SysFS had negative value (-1), but there must be at least one NUMA node, so returning NUMA node zero\n",
      "2022-01-30 12:57:29.389774: I tensorflow/stream_executor/cuda/cuda_gpu_executor.cc:937] successful NUMA node read from SysFS had negative value (-1), but there must be at least one NUMA node, so returning NUMA node zero\n",
      "2022-01-30 12:57:29.390476: I tensorflow/stream_executor/cuda/cuda_gpu_executor.cc:937] successful NUMA node read from SysFS had negative value (-1), but there must be at least one NUMA node, so returning NUMA node zero\n",
      "2022-01-30 12:57:29.391622: I tensorflow/core/platform/cpu_feature_guard.cc:142] This TensorFlow binary is optimized with oneAPI Deep Neural Network Library (oneDNN) to use the following CPU instructions in performance-critical operations:  AVX2 AVX512F FMA\n",
      "To enable them in other operations, rebuild TensorFlow with the appropriate compiler flags.\n",
      "2022-01-30 12:57:29.392333: I tensorflow/stream_executor/cuda/cuda_gpu_executor.cc:937] successful NUMA node read from SysFS had negative value (-1), but there must be at least one NUMA node, so returning NUMA node zero\n",
      "2022-01-30 12:57:29.393008: I tensorflow/stream_executor/cuda/cuda_gpu_executor.cc:937] successful NUMA node read from SysFS had negative value (-1), but there must be at least one NUMA node, so returning NUMA node zero\n",
      "2022-01-30 12:57:29.393603: I tensorflow/stream_executor/cuda/cuda_gpu_executor.cc:937] successful NUMA node read from SysFS had negative value (-1), but there must be at least one NUMA node, so returning NUMA node zero\n",
      "2022-01-30 12:57:30.923903: I tensorflow/stream_executor/cuda/cuda_gpu_executor.cc:937] successful NUMA node read from SysFS had negative value (-1), but there must be at least one NUMA node, so returning NUMA node zero\n",
      "2022-01-30 12:57:30.924678: I tensorflow/stream_executor/cuda/cuda_gpu_executor.cc:937] successful NUMA node read from SysFS had negative value (-1), but there must be at least one NUMA node, so returning NUMA node zero\n",
      "2022-01-30 12:57:30.925313: I tensorflow/stream_executor/cuda/cuda_gpu_executor.cc:937] successful NUMA node read from SysFS had negative value (-1), but there must be at least one NUMA node, so returning NUMA node zero\n",
      "2022-01-30 12:57:30.925887: I tensorflow/core/common_runtime/gpu/gpu_device.cc:1510] Created device /job:localhost/replica:0/task:0/device:GPU:0 with 15403 MB memory:  -> device: 0, name: Tesla P100-PCIE-16GB, pci bus id: 0000:00:04.0, compute capability: 6.0\n",
      "2022-01-30 12:57:31.836288: I tensorflow/compiler/mlir/mlir_graph_optimization_pass.cc:185] None of the MLIR Optimization Passes are enabled (registered 2)\n"
     ]
    },
    {
     "name": "stdout",
     "output_type": "stream",
     "text": [
      "Epoch 1/120\n",
      "7287/7287 [==============================] - 42s 6ms/step - loss: 9582.6904 - accuracy: 7.5477e-04 - val_loss: 93.8626 - val_accuracy: 7.8206e-04\n",
      "Epoch 2/120\n",
      "7287/7287 [==============================] - 40s 5ms/step - loss: 1673.2004 - accuracy: 7.6849e-04 - val_loss: 2305.4192 - val_accuracy: 0.0010\n",
      "Epoch 3/120\n",
      "7287/7287 [==============================] - 40s 6ms/step - loss: 142.1867 - accuracy: 7.9594e-04 - val_loss: 218.4488 - val_accuracy: 0.0010\n",
      "Epoch 4/120\n",
      "7287/7287 [==============================] - 40s 6ms/step - loss: 56.3042 - accuracy: 7.9594e-04 - val_loss: 2689.8218 - val_accuracy: 0.0010\n",
      "Epoch 5/120\n",
      "7287/7287 [==============================] - 40s 6ms/step - loss: 325.2711 - accuracy: 8.2338e-04 - val_loss: 110.1257 - val_accuracy: 0.0010\n",
      "Epoch 6/120\n",
      "7287/7287 [==============================] - 41s 6ms/step - loss: 342.2805 - accuracy: 7.9594e-04 - val_loss: 1465.7339 - val_accuracy: 0.0010\n",
      "Epoch 7/120\n",
      "7287/7287 [==============================] - 40s 6ms/step - loss: 1052.0671 - accuracy: 7.9594e-04 - val_loss: 1977.6534 - val_accuracy: 0.0010\n",
      "Epoch 8/120\n",
      "7287/7287 [==============================] - 40s 6ms/step - loss: 239.0061 - accuracy: 7.6849e-04 - val_loss: 2764.1213 - val_accuracy: 0.0010\n",
      "Epoch 9/120\n",
      "7287/7287 [==============================] - 40s 6ms/step - loss: 34.1106 - accuracy: 8.2338e-04 - val_loss: 4742.8442 - val_accuracy: 0.0010\n",
      "Epoch 10/120\n",
      "7287/7287 [==============================] - 41s 6ms/step - loss: 3130.3870 - accuracy: 8.0966e-04 - val_loss: 3506.1323 - val_accuracy: 0.0010\n",
      "Epoch 11/120\n",
      "7287/7287 [==============================] - 40s 6ms/step - loss: 288.3685 - accuracy: 8.0966e-04 - val_loss: 16620.0371 - val_accuracy: 0.0010\n",
      "Epoch 12/120\n",
      "7287/7287 [==============================] - 40s 6ms/step - loss: 334.8607 - accuracy: 8.2338e-04 - val_loss: 8024.8311 - val_accuracy: 0.0010\n",
      "Epoch 13/120\n",
      "7287/7287 [==============================] - 40s 6ms/step - loss: 41.0225 - accuracy: 8.0966e-04 - val_loss: 7335.8770 - val_accuracy: 0.0010\n",
      "Epoch 14/120\n",
      "7287/7287 [==============================] - 40s 6ms/step - loss: 128.7302 - accuracy: 8.3711e-04 - val_loss: 5357.0239 - val_accuracy: 0.0010\n",
      "Epoch 15/120\n",
      "7287/7287 [==============================] - 40s 6ms/step - loss: 431.0111 - accuracy: 8.0966e-04 - val_loss: 8245.1992 - val_accuracy: 0.0010\n",
      "Epoch 16/120\n",
      "7287/7287 [==============================] - 42s 6ms/step - loss: 179.8056 - accuracy: 8.2338e-04 - val_loss: 6371.2085 - val_accuracy: 0.0010\n",
      "Epoch 17/120\n",
      "7287/7287 [==============================] - 41s 6ms/step - loss: 778.6210 - accuracy: 8.0966e-04 - val_loss: 2760.4207 - val_accuracy: 0.0010\n",
      "Epoch 18/120\n",
      "7287/7287 [==============================] - 41s 6ms/step - loss: 4408.1499 - accuracy: 8.2338e-04 - val_loss: 2307.2043 - val_accuracy: 0.0010\n",
      "Epoch 19/120\n",
      "7287/7287 [==============================] - 41s 6ms/step - loss: 2116.3772 - accuracy: 8.3711e-04 - val_loss: 2172.4724 - val_accuracy: 0.0010\n",
      "Epoch 20/120\n",
      "7287/7287 [==============================] - 41s 6ms/step - loss: 246.0595 - accuracy: 7.9594e-04 - val_loss: 2751.5286 - val_accuracy: 0.0010\n",
      "Epoch 21/120\n",
      "7287/7287 [==============================] - 40s 5ms/step - loss: 131.4709 - accuracy: 8.2338e-04 - val_loss: 5700.0635 - val_accuracy: 0.0010\n",
      "Epoch 22/120\n",
      "7287/7287 [==============================] - 41s 6ms/step - loss: 708.5745 - accuracy: 8.3711e-04 - val_loss: 461.9874 - val_accuracy: 0.0010\n",
      "Epoch 23/120\n",
      "7287/7287 [==============================] - 41s 6ms/step - loss: 57.5913 - accuracy: 8.2338e-04 - val_loss: 7671.9053 - val_accuracy: 0.0010\n",
      "Epoch 24/120\n",
      "7287/7287 [==============================] - 40s 5ms/step - loss: 197.8947 - accuracy: 8.3711e-04 - val_loss: 6724.3081 - val_accuracy: 0.0010\n",
      "Epoch 25/120\n",
      "7287/7287 [==============================] - 41s 6ms/step - loss: 75.1625 - accuracy: 7.8221e-04 - val_loss: 1765.0950 - val_accuracy: 0.0010\n",
      "Epoch 26/120\n",
      "7287/7287 [==============================] - 40s 6ms/step - loss: 146.0861 - accuracy: 8.3711e-04 - val_loss: 293.9748 - val_accuracy: 7.8206e-04\n",
      "Epoch 27/120\n",
      "7287/7287 [==============================] - 41s 6ms/step - loss: 280.5097 - accuracy: 8.0966e-04 - val_loss: 18594.9277 - val_accuracy: 0.0010\n",
      "Epoch 28/120\n",
      "7287/7287 [==============================] - 41s 6ms/step - loss: 352.0862 - accuracy: 7.9594e-04 - val_loss: 3161.2947 - val_accuracy: 0.0010\n",
      "Epoch 29/120\n",
      "7287/7287 [==============================] - 40s 6ms/step - loss: 390.7412 - accuracy: 7.9594e-04 - val_loss: 6526.9854 - val_accuracy: 0.0010\n",
      "Epoch 30/120\n",
      "7287/7287 [==============================] - 41s 6ms/step - loss: 191.3523 - accuracy: 8.2338e-04 - val_loss: 4546.2861 - val_accuracy: 0.0010\n",
      "Epoch 31/120\n",
      "7287/7287 [==============================] - 40s 5ms/step - loss: 52.1413 - accuracy: 8.3711e-04 - val_loss: 3889.3027 - val_accuracy: 0.0010\n",
      "Epoch 32/120\n",
      "7287/7287 [==============================] - 41s 6ms/step - loss: 1955.8671 - accuracy: 8.3711e-04 - val_loss: 5584.4272 - val_accuracy: 0.0010\n",
      "Epoch 33/120\n",
      "7287/7287 [==============================] - 40s 5ms/step - loss: 207.2057 - accuracy: 8.3711e-04 - val_loss: 92.6530 - val_accuracy: 7.8206e-04\n",
      "Epoch 34/120\n",
      "7287/7287 [==============================] - 41s 6ms/step - loss: 1412.6965 - accuracy: 8.2338e-04 - val_loss: 2821.1228 - val_accuracy: 0.0010\n",
      "Epoch 35/120\n",
      "7287/7287 [==============================] - 41s 6ms/step - loss: 32.9279 - accuracy: 8.2338e-04 - val_loss: 6263.8071 - val_accuracy: 0.0010\n",
      "Epoch 36/120\n",
      "7287/7287 [==============================] - 40s 6ms/step - loss: 49.7779 - accuracy: 8.2338e-04 - val_loss: 4296.4277 - val_accuracy: 0.0010\n",
      "Epoch 37/120\n",
      "7287/7287 [==============================] - 42s 6ms/step - loss: 1667.5653 - accuracy: 8.0966e-04 - val_loss: 3380.1082 - val_accuracy: 0.0010\n",
      "Epoch 38/120\n",
      "7287/7287 [==============================] - 40s 5ms/step - loss: 47.3967 - accuracy: 8.0966e-04 - val_loss: 2240.2837 - val_accuracy: 0.0010\n",
      "Epoch 39/120\n",
      "7287/7287 [==============================] - 42s 6ms/step - loss: 36.0062 - accuracy: 8.3711e-04 - val_loss: 5738.0327 - val_accuracy: 0.0010\n",
      "Epoch 40/120\n",
      "7287/7287 [==============================] - 40s 6ms/step - loss: 170.1430 - accuracy: 8.2338e-04 - val_loss: 4854.8945 - val_accuracy: 0.0010\n",
      "Epoch 41/120\n",
      "7287/7287 [==============================] - 41s 6ms/step - loss: 2063.9050 - accuracy: 8.3711e-04 - val_loss: 2776.1599 - val_accuracy: 0.0010\n",
      "Epoch 42/120\n",
      "7287/7287 [==============================] - 42s 6ms/step - loss: 35.4856 - accuracy: 8.2338e-04 - val_loss: 2645.2495 - val_accuracy: 0.0010\n",
      "Epoch 43/120\n",
      "7287/7287 [==============================] - 41s 6ms/step - loss: 31.3358 - accuracy: 8.3711e-04 - val_loss: 2438.4287 - val_accuracy: 0.0010\n",
      "Epoch 44/120\n",
      "7287/7287 [==============================] - 42s 6ms/step - loss: 208.2609 - accuracy: 8.2338e-04 - val_loss: 2394.8362 - val_accuracy: 0.0010\n",
      "Epoch 45/120\n",
      "7287/7287 [==============================] - 40s 6ms/step - loss: 33.8344 - accuracy: 8.3711e-04 - val_loss: 3889.6792 - val_accuracy: 0.0010\n",
      "Epoch 46/120\n",
      "7287/7287 [==============================] - 40s 6ms/step - loss: 80.6987 - accuracy: 8.3711e-04 - val_loss: 5261.4795 - val_accuracy: 0.0010\n",
      "Epoch 47/120\n",
      "7287/7287 [==============================] - 40s 6ms/step - loss: 20.3710 - accuracy: 8.2338e-04 - val_loss: 4928.5649 - val_accuracy: 0.0010\n",
      "Epoch 48/120\n",
      "7287/7287 [==============================] - 42s 6ms/step - loss: 59.8091 - accuracy: 8.0966e-04 - val_loss: 7194.5586 - val_accuracy: 0.0010\n",
      "Epoch 49/120\n",
      "7287/7287 [==============================] - 40s 5ms/step - loss: 30.4672 - accuracy: 8.3711e-04 - val_loss: 8765.1865 - val_accuracy: 0.0010\n",
      "Epoch 50/120\n",
      "7287/7287 [==============================] - 40s 6ms/step - loss: 52.5726 - accuracy: 8.3711e-04 - val_loss: 11749.6982 - val_accuracy: 0.0010\n",
      "Epoch 51/120\n",
      "7287/7287 [==============================] - 42s 6ms/step - loss: 131.2009 - accuracy: 8.3711e-04 - val_loss: 6209.5796 - val_accuracy: 0.0010\n",
      "Epoch 52/120\n",
      "7287/7287 [==============================] - 40s 5ms/step - loss: 20.2549 - accuracy: 8.3711e-04 - val_loss: 5077.0210 - val_accuracy: 0.0010\n",
      "Epoch 53/120\n",
      "7287/7287 [==============================] - 40s 6ms/step - loss: 24.5222 - accuracy: 8.3711e-04 - val_loss: 7449.2319 - val_accuracy: 0.0010\n",
      "Epoch 54/120\n",
      "7287/7287 [==============================] - 41s 6ms/step - loss: 17.3566 - accuracy: 8.3711e-04 - val_loss: 5351.9395 - val_accuracy: 0.0010\n",
      "Epoch 55/120\n",
      "7287/7287 [==============================] - 41s 6ms/step - loss: 14.5709 - accuracy: 8.3711e-04 - val_loss: 5577.0234 - val_accuracy: 0.0010\n",
      "Epoch 56/120\n",
      "7287/7287 [==============================] - 40s 6ms/step - loss: 116.7174 - accuracy: 8.3711e-04 - val_loss: 5194.6758 - val_accuracy: 0.0010\n",
      "Epoch 57/120\n",
      "7287/7287 [==============================] - 40s 6ms/step - loss: 17.8093 - accuracy: 8.3711e-04 - val_loss: 6923.4434 - val_accuracy: 0.0010\n",
      "Epoch 58/120\n",
      "7287/7287 [==============================] - 42s 6ms/step - loss: 14.8080 - accuracy: 8.3711e-04 - val_loss: 3828.4346 - val_accuracy: 0.0010\n",
      "Epoch 59/120\n",
      "7287/7287 [==============================] - 40s 5ms/step - loss: 12.9612 - accuracy: 8.3711e-04 - val_loss: 6091.0020 - val_accuracy: 0.0010\n",
      "Epoch 60/120\n",
      "7287/7287 [==============================] - 40s 6ms/step - loss: 27.4118 - accuracy: 8.3711e-04 - val_loss: 10365.1650 - val_accuracy: 0.0010\n",
      "Epoch 61/120\n",
      "7287/7287 [==============================] - 41s 6ms/step - loss: 12.4065 - accuracy: 8.3711e-04 - val_loss: 7443.0552 - val_accuracy: 0.0010\n",
      "Epoch 62/120\n",
      "7287/7287 [==============================] - 40s 6ms/step - loss: 12.5392 - accuracy: 8.3711e-04 - val_loss: 8634.3643 - val_accuracy: 0.0010\n",
      "Epoch 63/120\n",
      "7287/7287 [==============================] - 40s 6ms/step - loss: 12.2933 - accuracy: 8.3711e-04 - val_loss: 4692.6699 - val_accuracy: 0.0010\n",
      "Epoch 64/120\n",
      "7287/7287 [==============================] - 40s 5ms/step - loss: 12.0397 - accuracy: 8.3711e-04 - val_loss: 7819.6904 - val_accuracy: 0.0010\n",
      "Epoch 65/120\n",
      "7287/7287 [==============================] - 43s 6ms/step - loss: 11.8348 - accuracy: 8.3711e-04 - val_loss: 11378.3213 - val_accuracy: 0.0010\n",
      "Epoch 66/120\n",
      "7287/7287 [==============================] - 40s 5ms/step - loss: 12.1607 - accuracy: 8.3711e-04 - val_loss: 4890.1533 - val_accuracy: 0.0010\n",
      "Epoch 67/120\n",
      "7287/7287 [==============================] - 40s 6ms/step - loss: 11.1905 - accuracy: 8.3711e-04 - val_loss: 10597.4717 - val_accuracy: 0.0010\n",
      "Epoch 68/120\n",
      "7287/7287 [==============================] - 41s 6ms/step - loss: 11.3008 - accuracy: 8.3711e-04 - val_loss: 6859.6255 - val_accuracy: 0.0010\n",
      "Epoch 69/120\n",
      "7287/7287 [==============================] - 40s 6ms/step - loss: 11.0612 - accuracy: 8.3711e-04 - val_loss: 10625.5918 - val_accuracy: 0.0010\n",
      "Epoch 70/120\n",
      "7287/7287 [==============================] - 40s 5ms/step - loss: 11.0108 - accuracy: 8.3711e-04 - val_loss: 10061.5322 - val_accuracy: 0.0010\n",
      "Epoch 71/120\n",
      "7287/7287 [==============================] - 41s 6ms/step - loss: 11.0248 - accuracy: 8.3711e-04 - val_loss: 6516.9199 - val_accuracy: 0.0010\n",
      "Epoch 72/120\n",
      "7287/7287 [==============================] - 42s 6ms/step - loss: 10.7730 - accuracy: 8.3711e-04 - val_loss: 6713.1909 - val_accuracy: 0.0010\n",
      "Epoch 73/120\n",
      "7287/7287 [==============================] - 40s 6ms/step - loss: 10.6410 - accuracy: 8.3711e-04 - val_loss: 7051.6006 - val_accuracy: 0.0010\n",
      "Epoch 74/120\n",
      "7287/7287 [==============================] - 40s 5ms/step - loss: 10.5350 - accuracy: 8.3711e-04 - val_loss: 6535.2607 - val_accuracy: 0.0010\n",
      "Epoch 75/120\n",
      "7287/7287 [==============================] - 41s 6ms/step - loss: 10.3880 - accuracy: 8.3711e-04 - val_loss: 8767.1348 - val_accuracy: 0.0010\n",
      "Epoch 76/120\n",
      "7287/7287 [==============================] - 41s 6ms/step - loss: 10.2878 - accuracy: 8.3711e-04 - val_loss: 8134.0171 - val_accuracy: 0.0010\n",
      "Epoch 77/120\n",
      "7287/7287 [==============================] - 40s 6ms/step - loss: 10.0239 - accuracy: 8.3711e-04 - val_loss: 8262.9746 - val_accuracy: 0.0010\n",
      "Epoch 78/120\n",
      "7287/7287 [==============================] - 40s 5ms/step - loss: 10.0895 - accuracy: 8.3711e-04 - val_loss: 7444.0767 - val_accuracy: 0.0010\n",
      "Epoch 79/120\n",
      "7287/7287 [==============================] - 42s 6ms/step - loss: 9.9866 - accuracy: 8.3711e-04 - val_loss: 9564.2822 - val_accuracy: 0.0010\n",
      "Epoch 80/120\n",
      "7287/7287 [==============================] - 40s 6ms/step - loss: 9.8802 - accuracy: 8.3711e-04 - val_loss: 7133.4492 - val_accuracy: 0.0010\n",
      "Epoch 81/120\n",
      "7287/7287 [==============================] - 40s 5ms/step - loss: 9.7294 - accuracy: 8.3711e-04 - val_loss: 8170.2207 - val_accuracy: 0.0010\n",
      "Epoch 82/120\n",
      "7287/7287 [==============================] - 41s 6ms/step - loss: 9.5090 - accuracy: 8.3711e-04 - val_loss: 7849.8906 - val_accuracy: 0.0010\n",
      "Epoch 83/120\n",
      "7287/7287 [==============================] - 43s 6ms/step - loss: 13.2169 - accuracy: 8.3711e-04 - val_loss: 9802.0791 - val_accuracy: 0.0010\n",
      "Epoch 84/120\n",
      "7287/7287 [==============================] - 40s 6ms/step - loss: 9.3218 - accuracy: 8.3711e-04 - val_loss: 8785.6338 - val_accuracy: 0.0010\n",
      "Epoch 85/120\n",
      "7287/7287 [==============================] - 41s 6ms/step - loss: 9.3611 - accuracy: 8.3711e-04 - val_loss: 7174.0181 - val_accuracy: 0.0010\n",
      "Epoch 86/120\n",
      "7287/7287 [==============================] - 41s 6ms/step - loss: 10.2740 - accuracy: 8.3711e-04 - val_loss: 7721.0815 - val_accuracy: 0.0010\n",
      "Epoch 87/120\n",
      "7287/7287 [==============================] - 41s 6ms/step - loss: 9.0931 - accuracy: 8.3711e-04 - val_loss: 8588.2695 - val_accuracy: 0.0010\n",
      "Epoch 88/120\n",
      "7287/7287 [==============================] - 40s 6ms/step - loss: 9.2398 - accuracy: 8.3711e-04 - val_loss: 7008.1523 - val_accuracy: 0.0010\n",
      "Epoch 89/120\n",
      "7287/7287 [==============================] - 40s 5ms/step - loss: 8.8650 - accuracy: 8.3711e-04 - val_loss: 7667.2109 - val_accuracy: 0.0010\n",
      "Epoch 90/120\n",
      "7287/7287 [==============================] - 41s 6ms/step - loss: 29.6636 - accuracy: 8.3711e-04 - val_loss: 6333.1582 - val_accuracy: 0.0010\n",
      "Epoch 91/120\n",
      "7287/7287 [==============================] - 40s 6ms/step - loss: 8.4813 - accuracy: 8.3711e-04 - val_loss: 7686.0640 - val_accuracy: 0.0010\n",
      "Epoch 92/120\n",
      "7287/7287 [==============================] - 41s 6ms/step - loss: 8.8067 - accuracy: 8.3711e-04 - val_loss: 7900.5356 - val_accuracy: 0.0010\n",
      "Epoch 93/120\n",
      "7287/7287 [==============================] - 43s 6ms/step - loss: 8.6501 - accuracy: 8.3711e-04 - val_loss: 8292.6123 - val_accuracy: 0.0010\n",
      "Epoch 94/120\n",
      "7287/7287 [==============================] - 40s 6ms/step - loss: 8.6644 - accuracy: 8.3711e-04 - val_loss: 7082.5986 - val_accuracy: 0.0010\n",
      "Epoch 95/120\n",
      "7287/7287 [==============================] - 40s 6ms/step - loss: 8.5868 - accuracy: 8.3711e-04 - val_loss: 8286.7803 - val_accuracy: 0.0010\n",
      "Epoch 96/120\n",
      "7287/7287 [==============================] - 40s 6ms/step - loss: 8.5403 - accuracy: 8.3711e-04 - val_loss: 8638.6611 - val_accuracy: 0.0010\n",
      "Epoch 97/120\n",
      "7287/7287 [==============================] - 41s 6ms/step - loss: 8.6732 - accuracy: 8.3711e-04 - val_loss: 7189.7119 - val_accuracy: 0.0010\n",
      "Epoch 98/120\n",
      "7287/7287 [==============================] - 40s 6ms/step - loss: 12.7593 - accuracy: 8.3711e-04 - val_loss: 7414.9155 - val_accuracy: 0.0010\n",
      "Epoch 99/120\n",
      "7287/7287 [==============================] - 41s 6ms/step - loss: 8.0294 - accuracy: 8.3711e-04 - val_loss: 7119.7393 - val_accuracy: 0.0010\n",
      "Epoch 100/120\n",
      "7287/7287 [==============================] - 43s 6ms/step - loss: 8.2557 - accuracy: 8.3711e-04 - val_loss: 7759.3101 - val_accuracy: 0.0010\n",
      "Epoch 101/120\n",
      "7287/7287 [==============================] - 40s 6ms/step - loss: 8.2315 - accuracy: 8.3711e-04 - val_loss: 7008.6035 - val_accuracy: 0.0010\n",
      "Epoch 102/120\n",
      "7287/7287 [==============================] - 40s 5ms/step - loss: 8.1513 - accuracy: 8.3711e-04 - val_loss: 7389.4141 - val_accuracy: 0.0010\n",
      "Epoch 103/120\n",
      "7287/7287 [==============================] - 40s 5ms/step - loss: 9.8417 - accuracy: 8.3711e-04 - val_loss: 8250.5332 - val_accuracy: 0.0010\n",
      "Epoch 104/120\n",
      "7287/7287 [==============================] - 40s 6ms/step - loss: 7.7203 - accuracy: 8.3711e-04 - val_loss: 7386.4238 - val_accuracy: 0.0010\n",
      "Epoch 105/120\n",
      "7287/7287 [==============================] - 41s 6ms/step - loss: 8.0119 - accuracy: 8.3711e-04 - val_loss: 7859.4492 - val_accuracy: 0.0010\n",
      "Epoch 106/120\n",
      "7287/7287 [==============================] - 41s 6ms/step - loss: 8.4342 - accuracy: 8.3711e-04 - val_loss: 8444.9824 - val_accuracy: 0.0010\n",
      "Epoch 107/120\n",
      "7287/7287 [==============================] - 43s 6ms/step - loss: 7.7844 - accuracy: 8.3711e-04 - val_loss: 6886.6909 - val_accuracy: 0.0010\n",
      "Epoch 108/120\n",
      "7287/7287 [==============================] - 40s 6ms/step - loss: 7.9030 - accuracy: 8.3711e-04 - val_loss: 8672.9912 - val_accuracy: 0.0010\n",
      "Epoch 109/120\n",
      "7287/7287 [==============================] - 40s 6ms/step - loss: 7.7694 - accuracy: 8.3711e-04 - val_loss: 7628.6338 - val_accuracy: 0.0010\n",
      "Epoch 110/120\n",
      "7287/7287 [==============================] - 40s 5ms/step - loss: 7.7355 - accuracy: 8.3711e-04 - val_loss: 6398.6230 - val_accuracy: 0.0010\n",
      "Epoch 111/120\n",
      "7287/7287 [==============================] - 40s 5ms/step - loss: 7.7701 - accuracy: 8.3711e-04 - val_loss: 7753.1426 - val_accuracy: 0.0010\n",
      "Epoch 112/120\n",
      "7287/7287 [==============================] - 40s 5ms/step - loss: 7.6630 - accuracy: 8.3711e-04 - val_loss: 9191.6953 - val_accuracy: 0.0010\n",
      "Epoch 113/120\n",
      "7287/7287 [==============================] - 42s 6ms/step - loss: 7.6476 - accuracy: 8.3711e-04 - val_loss: 11530.0342 - val_accuracy: 0.0010\n",
      "Epoch 114/120\n",
      "7287/7287 [==============================] - 42s 6ms/step - loss: 11.9619 - accuracy: 8.3711e-04 - val_loss: 7434.2427 - val_accuracy: 0.0010\n",
      "Epoch 115/120\n",
      "7287/7287 [==============================] - 40s 5ms/step - loss: 7.2539 - accuracy: 8.3711e-04 - val_loss: 5418.3564 - val_accuracy: 0.0010\n",
      "Epoch 116/120\n",
      "7287/7287 [==============================] - 40s 5ms/step - loss: 7.4406 - accuracy: 8.3711e-04 - val_loss: 9244.7324 - val_accuracy: 0.0010\n",
      "Epoch 117/120\n",
      "7287/7287 [==============================] - 40s 5ms/step - loss: 7.4290 - accuracy: 8.3711e-04 - val_loss: 5961.1104 - val_accuracy: 0.0010\n",
      "Epoch 118/120\n",
      "7287/7287 [==============================] - 41s 6ms/step - loss: 7.3806 - accuracy: 8.3711e-04 - val_loss: 8595.1758 - val_accuracy: 0.0010\n",
      "Epoch 119/120\n",
      "7287/7287 [==============================] - 40s 5ms/step - loss: 7.3389 - accuracy: 8.3711e-04 - val_loss: 10434.5332 - val_accuracy: 0.0010\n",
      "Epoch 120/120\n",
      "7287/7287 [==============================] - 42s 6ms/step - loss: 7.3129 - accuracy: 8.3711e-04 - val_loss: 6640.6714 - val_accuracy: 0.0010\n",
      "Model: \"sequential\"\n",
      "_________________________________________________________________\n",
      "Layer (type)                 Output Shape              Param #   \n",
      "=================================================================\n",
      "dense (Dense)                (None, 4096)              3518464   \n",
      "_________________________________________________________________\n",
      "dense_1 (Dense)              (None, 4096)              16781312  \n",
      "_________________________________________________________________\n",
      "dense_2 (Dense)              (None, 4096)              16781312  \n",
      "_________________________________________________________________\n",
      "dense_3 (Dense)              (None, 1)                 4097      \n",
      "=================================================================\n",
      "Total params: 37,085,185\n",
      "Trainable params: 37,085,185\n",
      "Non-trainable params: 0\n",
      "_________________________________________________________________\n"
     ]
    }
   ],
   "source": [
    "#6,2\n",
    "# Create keras model\n",
    "import keras as k\n",
    "model=k.Sequential()\n",
    "model.add(k.layers.Dense(units=1024*4,activation=\"relu\"))\n",
    "model.add(k.layers.Dense(units=1024*4,activation=\"relu\"))\n",
    "model.add(k.layers.Dense(units=1024*4,activation=\"relu\"))\n",
    "model.add(k.layers.Dense(units=1,activation=\"sigmoid\"))\n",
    "model.compile(loss='mean_absolute_percentage_error',optimizer='adamax',metrics=['accuracy'])\n",
    "fit_results=model.fit(x=input_data[:],y=output_data[:],epochs=120,\n",
    "                      validation_split=0.05,\n",
    "                      batch_size=10\n",
    "                    )\n",
    "model.summary()\n",
    "\n",
    "# # Create keras model\n",
    "# import keras as k\n",
    "# model=k.Sequential()\n",
    "# model.add(k.layers.Dense(units=1024*2,activation=\"relu\"))\n",
    "# model.add(k.layers.Dense(units=1024*2,activation=\"relu\"))\n",
    "# model.add(k.layers.Dense(units=1024*2,activation=\"relu\"))\n",
    "# model.add(k.layers.Dense(units=1,activation=\"sigmoid\"))\n",
    "# model.compile(loss='mean_absolute_percentage_error',optimizer='adamax',metrics=['accuracy'])\n",
    "# fit_results=model.fit(x=input_data[:],y=output_data[:],epochs=80,\n",
    "#                       validation_split=0.1,\n",
    "#                       batch_size=16\n",
    "#                     )\n",
    "# model.summary()\n",
    "\n",
    "\n"
   ]
  },
  {
   "cell_type": "code",
   "execution_count": 15,
   "id": "acf81938",
   "metadata": {
    "execution": {
     "iopub.execute_input": "2022-01-30T14:20:00.619005Z",
     "iopub.status.busy": "2022-01-30T14:20:00.618248Z",
     "iopub.status.idle": "2022-01-30T14:20:16.795968Z",
     "shell.execute_reply": "2022-01-30T14:20:16.795462Z",
     "shell.execute_reply.started": "2022-01-30T12:53:04.357952Z"
    },
    "papermill": {
     "duration": 41.188946,
     "end_time": "2022-01-30T14:20:16.796100",
     "exception": false,
     "start_time": "2022-01-30T14:19:35.607154",
     "status": "completed"
    },
    "tags": []
   },
   "outputs": [
    {
     "name": "stderr",
     "output_type": "stream",
     "text": [
      "2022-01-30 14:20:00.856850: W tensorflow/python/util/util.cc:348] Sets are not currently considered sequences, but this may change in the future, so consider avoiding using them.\n"
     ]
    },
    {
     "name": "stdout",
     "output_type": "stream",
     "text": [
      "  adding: Car_prices_test_model/ (stored 0%)\r\n",
      "  adding: Car_prices_test_model/variables/ (stored 0%)\r\n",
      "  adding: Car_prices_test_model/variables/variables.index (deflated 66%)\r\n",
      "  adding: Car_prices_test_model/variables/variables.data-00000-of-00001 (deflated 58%)\r\n",
      "  adding: Car_prices_test_model/keras_metadata.pb (deflated 89%)\r\n",
      "  adding: Car_prices_test_model/assets/ (stored 0%)\r\n",
      "  adding: Car_prices_test_model/saved_model.pb (deflated 89%)\r\n"
     ]
    }
   ],
   "source": [
    "#Save and zip model\n",
    "model.save('Car_prices_test_model')\n",
    "!zip -r model_car_prices.zip ./Car_prices_test_model"
   ]
  },
  {
   "cell_type": "code",
   "execution_count": 16,
   "id": "0e89c3db",
   "metadata": {
    "execution": {
     "iopub.execute_input": "2022-01-30T14:21:06.995406Z",
     "iopub.status.busy": "2022-01-30T14:21:06.994585Z",
     "iopub.status.idle": "2022-01-30T14:21:07.217025Z",
     "shell.execute_reply": "2022-01-30T14:21:07.217518Z",
     "shell.execute_reply.started": "2022-01-30T12:53:04.359748Z"
    },
    "papermill": {
     "duration": 25.322761,
     "end_time": "2022-01-30T14:21:07.217675",
     "exception": false,
     "start_time": "2022-01-30T14:20:41.894914",
     "status": "completed"
    },
    "tags": []
   },
  {
   "cell_type": "code",
   "execution_count": 18,
   "id": "bd125689",
   "metadata": {
    "execution": {
     "iopub.execute_input": "2022-01-30T14:22:46.017591Z",
     "iopub.status.busy": "2022-01-30T14:22:46.016459Z",
     "iopub.status.idle": "2022-01-30T14:22:46.221456Z",
     "shell.execute_reply": "2022-01-30T14:22:46.222106Z",
     "shell.execute_reply.started": "2022-01-30T12:53:04.363422Z"
    },
    "papermill": {
     "duration": 25.095986,
     "end_time": "2022-01-30T14:22:46.222257",
     "exception": false,
     "start_time": "2022-01-30T14:22:21.126271",
     "status": "completed"
    },
    "tags": []
   },
   "outputs": [
    {
     "name": "stdout",
     "output_type": "stream",
     "text": [
      "reality:0.11224489795918367; forecast:0.10472018271684647;error:7.185544416670211%\n",
      "reality:0.11224489795918367; forecast:0.06515669822692871;error:72.26916190297962%\n",
      "reality:0.5231292517006803; forecast:0.4637107849121094;error:12.813690930184634%\n",
      "reality:0.2367278911564626; forecast:0.2243664711713791;error:5.50947738338381%\n",
      "reality:0.2782312925170068; forecast:0.24116599559783936;error:15.369205275927996%\n",
      "reality:0.24421768707482994; forecast:0.18238621950149536;error:33.901392189790755%\n",
      "reality:0.5231292517006803; forecast:0.4505462646484375;error:16.109996408222244%\n",
      "reality:0.8360544217687075; forecast:0.7423226833343506;error:12.626818570777672%\n",
      "reality:0.14285714285714285; forecast:0.1346844881772995;error:6.0679999534057885%\n",
      "reality:0.1554421768707483; forecast:0.13006971776485443;error:19.50681491580022%\n",
      "reality:0.14625850340136054; forecast:0.09447672218084335;error:54.80903658088252%\n",
      "reality:0.19727891156462585; forecast:0.15359541773796082;error:28.44062307977873%\n",
      "reality:0.04013605442176871; forecast:0.036073941737413406;error:11.260517949282928%\n",
      "reality:0.10068027210884353; forecast:0.07276773452758789;error:38.35839848865072%\n",
      "reality:0.272108843537415; forecast:0.25714847445487976;error:5.817794219564874%\n",
      "reality:0.6938707482993197; forecast:0.5043361783027649;error:37.58099818148932%\n",
      "reality:0.30952380952380953; forecast:0.2858870029449463;error:8.267884281334403%\n",
      "reality:0.33945578231292517; forecast:0.2590283751487732;error:31.04965126618211%\n",
      "reality:0.8963809523809524; forecast:0.6526817679405212;error:37.33813267212932%\n",
      "reality:0.08095238095238096; forecast:0.07536119967699051;error:7.4191776396276765%\n",
      "reality:0.047619047619047616; forecast:0.04288235679268837;error:11.045780084472597%\n",
      "reality:0.33945578231292517; forecast:0.2614712417125702;error:29.825284069320986%\n",
      "reality:0.16666666666666666; forecast:0.1413276642560959;error:17.929258609025524%\n",
      "reality:0.12176870748299319; forecast:0.08482027053833008;error:43.560857222173325%\n",
      "reality:0.40068027210884355; forecast:0.37503549456596375;error:6.83796011696414%\n",
      "reality:0.673469387755102; forecast:0.5000275373458862;error:34.686459735764544%\n",
      "reality:0.026530612244897958; forecast:0.0213692057877779;error:24.153478179671623%\n",
      "reality:0.2516326530612245; forecast:0.23268210887908936;error:8.14439248183993%\n",
      "reality:0.18299319727891156; forecast:0.13021601736545563;error:40.530482333317735%\n",
      "reality:0.11496598639455782; forecast:0.053109731525182724;error:116.46877717701338%\n",
      "reality:0.5204081632653061; forecast:0.37419554591178894;error:39.07385294959781%\n",
      "reality:0.7537414965986394; forecast:0.6953305006027222;error:8.400465094697523%\n",
      "reality:0.6632653061224489; forecast:0.5953177213668823;error:11.413667411001185%\n",
      "reality:0.2646258503401361; forecast:0.2048581838607788;error:29.17514221446737%\n",
      "reality:0.5639455782312925; forecast:0.536736249923706;error:5.069403885326196%\n",
      "reality:0.23809523809523808; forecast:0.15119735896587372;error:57.473146173788535%\n",
      "reality:0.013605442176870748; forecast:0.011997279711067677;error:13.404392533413372%\n",
      "reality:0.10543537414965987; forecast:0.09785501658916473;error:7.746519110328862%\n",
      "reality:0.04693877551020408; forecast:0.04449772089719772;error:5.485796943726356%\n",
      "reality:0.972108843537415; forecast:0.8833912014961243;error:10.04284872783849%\n",
      "reality:0.827891156462585; forecast:0.7760157585144043;error:6.684838210952108%\n",
      "reality:0.7297687074829932; forecast:0.6444944143295288;error:13.23119196342077%\n",
      "reality:0.017006802721088437; forecast:0.014071530662477016;error:20.859650090793494%\n",
      "reality:0.06054421768707483; forecast:0.056804217398166656;error:6.5840186877196345%\n",
      "reality:0.18299319727891156; forecast:0.16777698695659637;error:9.069307178732203%\n",
      "reality:0.019727891156462583; forecast:0.017857057973742485;error:10.476715623990373%\n",
      "reality:0.10136054421768707; forecast:0.0964495986700058;error:5.09172211745917%\n",
      "reality:0.7272108843537415; forecast:0.5947527289390564;error:22.271130331922848%\n",
      "reality:0.20204081632653062; forecast:0.1448737233877182;error:39.45994594604227%\n",
      "reality:0.015646258503401362; forecast:0.013324846513569355;error:17.42167902247877%\n",
      "reality:0.4346938775510204; forecast:0.36180800199508667;error:20.14490424590541%\n",
      "reality:0.9312925170068027; forecast:0.8631215691566467;error:7.8981861056682305%\n",
      "reality:0.4897959183673469; forecast:0.4413832128047943;error:10.96840662672949%\n",
      "reality:0.16938775510204082; forecast:0.14053457975387573;error:20.53101478561142%\n",
      "reality:0.10816326530612246; forecast:0.10282836109399796;error:5.188164194553039%\n",
      "reality:0.2163265306122449; forecast:0.14682188630104065;error:47.339430150552175%\n",
      "reality:0.5102040816326531; forecast:0.45072340965270996;error:13.196712375284434%\n",
      "reality:0.2857142857142857; forecast:0.2708161175251007;error:5.501211790987355%\n",
      "reality:0.5843537414965987; forecast:0.5545650124549866;error:5.371548578180452%\n",
      "reality:0.46938775510204084; forecast:0.4087151288986206;error:14.844722378375593%\n",
      "reality:0.06054421768707483; forecast:0.057443585246801376;error:5.397700068600969%\n",
      "reality:0.10203401360544218; forecast:0.030786745250225067;error:231.42189203873784%\n",
      "reality:0.15170068027210884; forecast:0.14217142760753632;error:6.702649628642661%\n",
      "reality:0.9114965986394558; forecast:0.8066644072532654;error:12.995762605065167%\n",
      "reality:0.7136054421768707; forecast:0.6517922282218933;error:9.483576403420074%\n",
      "reality:0.5850340136054422; forecast:0.4319763779640198;error:35.431945691755146%\n",
      "reality:0.05714285714285714; forecast:0.04111151024699211;error:38.99478953594985%\n",
      "reality:0.35306122448979593; forecast:0.2957494258880615;error:19.378498683350415%\n",
      "reality:0.7340136054421769; forecast:0.6617197394371033;error:10.925148774701938%\n",
      "reality:0.04692517006802721; forecast:0.039115749299526215;error:19.964901371825675%\n",
      "reality:0.24149659863945577; forecast:0.22678108513355255;error:6.4888628155373596%\n",
      "reality:0.030612244897959183; forecast:0.023639684543013573;error:29.495149743892256%\n",
      "reality:0.14625850340136054; forecast:0.12499484419822693;error:17.011629031203853%\n",
      "reality:0.04013605442176871; forecast:0.037674739956855774;error:6.533062916244603%\n",
      "reality:0.6164285714285714; forecast:0.564333438873291;error:9.231268070750858%\n",
      "reality:0.061224489795918366; forecast:0.04896096512675285;error:25.04755500104426%\n",
      "reality:0.5571428571428572; forecast:0.5227257609367371;error:6.584159185964708%\n",
      "reality:0.18299319727891156; forecast:0.10624019801616669;error:72.24478182078059%\n",
      "reality:0.6251700680272109; forecast:0.5793167352676392;error:7.915071319040678%\n",
      "reality:0.10816326530612246; forecast:0.10226067155599594;error:5.7721054050524%\n",
      "reality:0.1496530612244898; forecast:0.14234890043735504;error:5.13116769057811%\n",
      "reality:0.19387755102040816; forecast:0.1755772829055786;error:10.42291338149424%\n",
      "reality:0.6251700680272109; forecast:0.49518418312072754;error:26.25000743910924%\n",
      "reality:0.04693877551020408; forecast:0.029439229518175125;error:59.44294833268353%\n",
      "reality:0.10816326530612246; forecast:0.0989217609167099;error:9.342236029536238%\n",
      "reality:0.13598639455782313; forecast:0.12189716845750809;error:11.558288251155219%\n",
      "reality:0.08095238095238096; forecast:0.06944599747657776;error:16.56882166561722%\n",
      "reality:0.6319727891156462; forecast:0.46367716789245605;error:36.295861188969354%\n",
      "reality:0.9319659863945579; forecast:0.6177567839622498;error:50.86293029709714%\n",
      "reality:0.29863945578231293; forecast:0.2842877209186554;error:5.048313313456148%\n",
      "reality:0.4346938775510204; forecast:0.3377055823802948;error:28.719778478966845%\n",
      "reality:0.061217687074829934; forecast:0.05530046299099922;error:10.700134797775206%\n",
      "reality:0.06054421768707483; forecast:0.04104123264551163;error:47.520466088379294%\n",
      "reality:0.6251700680272109; forecast:0.5886846780776978;error:6.197781479323211%\n",
      "reality:0.12827891156462584; forecast:0.08793168514966965;error:45.884741485712055%\n",
      "reality:0.09727891156462586; forecast:0.09176474064588547;error:6.009030135026734%\n",
      "reality:0.591156462585034; forecast:0.4625449478626251;error:27.805192839465676%\n",
      "reality:0.5775510204081633; forecast:0.4562588930130005;error:26.584057703332647%\n",
      "reality:0.9251700680272109; forecast:0.7883720397949219;error:17.351963454700154%\n",
      "reality:0.013598639455782312; forecast:0.012381929904222488;error:9.826493615869197%\n",
      "reality:0.30272108843537415; forecast:0.21493932604789734;error:40.84025199181812%\n",
      "reality:0.282312925170068; forecast:0.26737964153289795;error:5.5850488659334445%\n",
      "reality:0.45510204081632655; forecast:0.41458120942115784;error:9.773918951064914%\n",
      "reality:0.35306122448979593; forecast:0.3147929310798645;error:12.156655893973237%\n",
      "reality:0.1598639455782313; forecast:0.14102579653263092;error:13.357945502716277%\n",
      "reality:0.2027142857142857; forecast:0.1900908648967743;error:6.6407298553596235%\n",
      "reality:0.41496598639455784; forecast:0.3081156313419342;error:34.67865443478439%\n",
      "reality:0.9312925170068027; forecast:0.7811883687973022;error:19.214846790486263%\n",
      "reality:0.2646258503401361; forecast:0.2496473342180252;error:5.9998702445705305%\n",
      "reality:0.11496598639455782; forecast:0.05527294799685478;error:107.99684214617932%\n",
      "reality:0.22380952380952382; forecast:0.20823968946933746;error:7.476881270743036%\n",
      "reality:0.2836734693877551; forecast:0.25664418935775757;error:10.531810635431611%\n",
      "reality:0.2578231292517007; forecast:0.24299050867557526;error:6.10419750835986%\n",
      "reality:0.8292517006802721; forecast:0.7749406695365906;error:7.0084115182855555%\n",
      "reality:0.7482993197278912; forecast:0.6073761582374573;error:23.201958058310737%\n",
      "reality:0.34625850340136055; forecast:0.32217979431152344;error:7.47368690246131%\n",
      "reality:0.4346938775510204; forecast:0.41078728437423706;error:5.819701360328338%\n",
      "reality:0.29183673469387755; forecast:0.2772994041442871;error:5.2424672871010785%\n",
      "reality:0.1292517006802721; forecast:0.12167136371135712;error:6.23017342593279%\n",
      "reality:0.7; forecast:0.6558964252471924;error:6.724167575114606%\n",
      "reality:0.09251700680272108; forecast:0.025274228304624557;error:266.05274625058587%\n",
      "reality:0.006115646258503402; forecast:0.005524264182895422;error:10.70517368519512%\n",
      "reality:0.03945578231292517; forecast:0.03363707661628723;error:17.298488102918228%\n",
      "reality:0.5183673469387755; forecast:0.48628872632980347;error:6.596620252968009%\n",
      "reality:0.8666666666666667; forecast:0.8211687207221985;error:5.540633099669677%\n",
      "reality:0.12857142857142856; forecast:0.12005406618118286;error:7.0946055066485485%\n",
      "reality:0.026530612244897958; forecast:0.021139750257134438;error:25.501067525356234%\n",
      "reality:0.03741496598639456; forecast:0.03310065716505051;error:13.033906849134496%\n",
      "reality:0.21768707482993196; forecast:0.19592033326625824;error:11.109996191203095%\n",
      "reality:0.40408163265306124; forecast:0.3731749951839447;error:8.282076202314187%\n",
      "reality:0.026530612244897958; forecast:0.016491098329424858;error:60.87838247595505%\n",
      "reality:0.18366666666666667; forecast:0.17230726778507233;error:6.592524521811512%\n",
      "reality:0.006122448979591836; forecast:0.005587039515376091;error:9.58306206251531%\n",
      "reality:0.15306122448979592; forecast:0.13557012379169464;error:12.901884433606185%\n",
      "reality:0.20068027210884354; forecast:0.18998102843761444;error:5.631743211003041%\n",
      "reality:0.7448979591836735; forecast:0.5171416997909546;error:44.04136419182311%\n",
      "reality:0.13537414965986394; forecast:0.11900690197944641;error:13.753191964651194%\n",
      "reality:0.07414965986394557; forecast:0.052345696836709976;error:41.6537831089575%\n",
      "reality:0.22380952380952382; forecast:0.210642471909523;error:6.250900770693789%\n",
      "reality:0.10204081632653061; forecast:0.09086543321609497;error:12.298827744383829%\n",
      "reality:0.9789115646258504; forecast:0.9203492403030396;error:6.3630545621495%\n",
      "reality:0.7408163265306122; forecast:0.6968072056770325;error:6.315824591799341%\n",
      "reality:0.28503401360544217; forecast:0.25676828622817993;error:11.008262660655689%\n",
      "reality:0.11224489795918367; forecast:0.1060224249958992;error:5.8690158836917306%\n",
      "reality:0.06666666666666667; forecast:0.010119544342160225;error:558.791190715167%\n",
      "reality:0.02493877551020408; forecast:0.018315957859158516;error:36.15872946406654%\n",
      "reality:0.06054421768707483; forecast:0.05433138832449913;error:11.435064617655286%\n",
      "reality:0.04013605442176871; forecast:0.02510056644678116;error:59.90099070818246%\n",
      "reality:0.16258503401360544; forecast:0.1339753419160843;error:21.354446040854953%\n",
      "reality:0.5748299319727891; forecast:0.37165239453315735;error:54.6687012994625%\n",
      "reality:0.02312925170068027; forecast:0.019402293488383293;error:19.20885391476226%\n",
      "reality:0.15578231292517006; forecast:0.11299411207437515;error:37.86763758330238%\n",
      "reality:0.03333333333333333; forecast:0.030989505350589752;error:7.563295884291918%\n",
      "reality:0.7272108843537415; forecast:0.680441677570343;error:6.873360101985156%\n",
      "reality:0.6795918367346939; forecast:0.5185575485229492;error:31.0542752044459%\n",
      "155 errors more than 5% in 1000 samples\n"
     ]
    }
   ],
   "source": [
    "#Test model\n",
    "import random\n",
    "#Test model\n",
    "test_sample=1000\n",
    "random_indexes=[random.randint(0,len(input_data)) for x in range(test_sample)]\n",
    "test_data = [input_data[x] for x in random_indexes]\n",
    "output=[output_data[x] for x in random_indexes] \n",
    "predicted_test=model.predict(np.array(test_data)).tolist()\n",
    "\n",
    "n=0\n",
    "for i in range(1,test_sample):\n",
    "    error=(output[i][0]/predicted_test[i][0])*100-100\n",
    "    if error>5:\n",
    "        n+=1\n",
    "        print(f\"reality:{output[i][0]}; forecast:{predicted_test[i][0]};error:{error}%\")\n",
    "print(f'{n} errors more than 5% in {test_sample} samples')"
   ]
  }
 ],
 "metadata": {
  "kernelspec": {
   "display_name": "Python 3",
   "language": "python",
   "name": "python3"
  },
  "language_info": {
   "codemirror_mode": {
    "name": "ipython",
    "version": 3
   },
   "file_extension": ".py",
   "mimetype": "text/x-python",
   "name": "python",
   "nbconvert_exporter": "python",
   "pygments_lexer": "ipython3",
   "version": "3.7.12"
  },
  "papermill": {
   "default_parameters": {},
   "duration": 5180.110438,
   "end_time": "2022-01-30T14:23:15.122724",
   "environment_variables": {},
   "exception": null,
   "input_path": "__notebook__.ipynb",
   "output_path": "__notebook__.ipynb",
   "parameters": {},
   "start_time": "2022-01-30T12:56:55.012286",
   "version": "2.3.3"
  }
 },
 "nbformat": 4,
 "nbformat_minor": 5
}
